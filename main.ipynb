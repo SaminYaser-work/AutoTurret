{
 "cells": [
  {
   "attachments": {},
   "cell_type": "markdown",
   "metadata": {},
   "source": [
    "# Importing the libraries"
   ]
  },
  {
   "cell_type": "code",
   "execution_count": 1,
   "metadata": {},
   "outputs": [],
   "source": [
    "import cv2\n",
    "import mediapipe as mp\n",
    "import pyfirmata\n",
    "import numpy as np\n",
    "import time\n",
    "import math\n",
    "from timer import Timer\n",
    "import winsound as ws\n",
    "from play import Play as snd"
   ]
  },
  {
   "cell_type": "code",
   "execution_count": 2,
   "metadata": {},
   "outputs": [],
   "source": [
    "mp_drawing = mp.solutions.drawing_utils\n",
    "mp_drawing_styles = mp.solutions.drawing_styles\n",
    "mp_pose = mp.solutions.pose\n",
    "mp_face_detection = mp.solutions.face_detection"
   ]
  },
  {
   "cell_type": "code",
   "execution_count": 3,
   "metadata": {},
   "outputs": [],
   "source": [
    "MIDDLE_X = 70\n",
    "MIDDLE_Y = 70"
   ]
  },
  {
   "attachments": {},
   "cell_type": "markdown",
   "metadata": {},
   "source": [
    "# Connecting to the Arduino Uno"
   ]
  },
  {
   "cell_type": "code",
   "execution_count": 4,
   "metadata": {},
   "outputs": [],
   "source": [
    "port = \"COM3\"\n",
    "board = pyfirmata.Arduino(port)"
   ]
  },
  {
   "cell_type": "code",
   "execution_count": 5,
   "metadata": {},
   "outputs": [],
   "source": [
    "servo_pinX = board.get_pin('d:3:s') \n",
    "servo_pinY = board.get_pin('d:2:s')\n",
    "servo_pinX.write(90)\n",
    "servo_pinY.write(90)\n",
    "\n",
    "laser1 = board.digital[8]\n",
    "laser2 = board.digital[9]\n",
    "laser1.write(1)\n",
    "laser2.write(1)"
   ]
  },
  {
   "attachments": {},
   "cell_type": "markdown",
   "metadata": {},
   "source": [
    "# Helper Fucntions"
   ]
  },
  {
   "cell_type": "code",
   "execution_count": 6,
   "metadata": {},
   "outputs": [
    {
     "data": {
      "text/plain": [
       "78"
      ]
     },
     "execution_count": 6,
     "metadata": {},
     "output_type": "execute_result"
    }
   ],
   "source": [
    "# https://stackoverflow.com/questions/37642834/opencv-how-to-calculate-the-degreesangles-of-an-object-with-its-coordinates\n",
    "\n",
    "w = 640 # Width of the image\n",
    "h = 480 # Height of the image\n",
    "fov_x = 70 # Horizontal field of view of the camera\n",
    "fov_y = 50 # Vertical field of view of the camera\n",
    "\n",
    "a_x = w/2\n",
    "a_y = h/2\n",
    "\n",
    "alpha_x = fov_x/2\n",
    "alpha_y = fov_y/2\n",
    "\n",
    "Kx = np.tan(np.deg2rad(alpha_x)) / a_x\n",
    "Ky = np.tan(np.deg2rad(alpha_y)) / a_y\n",
    "\n",
    "# Testing\n",
    "p = 134\n",
    "b = p - h/2\n",
    "beta = np.rad2deg(np.arctan(Ky * b))\n",
    "round(beta + 90)"
   ]
  },
  {
   "cell_type": "code",
   "execution_count": 7,
   "metadata": {},
   "outputs": [],
   "source": [
    "idle_sweep_dir = True\n",
    "\n",
    "def idle_sweep():\n",
    "\n",
    "    global idle_sweep_dir\n",
    "\n",
    "    servo_pinY.write(70)\n",
    "\n",
    "    currAngleX = servo_pinX.read()\n",
    "\n",
    "\n",
    "    if currAngleX >= 180:\n",
    "        idle_sweep_dir = False\n",
    "    elif currAngleX <= 0:\n",
    "        idle_sweep_dir = True\n",
    "    \n",
    "    inc = 1 if idle_sweep_dir else -1\n",
    "\n",
    "    servo_pinX.write(currAngleX + inc)\n",
    "\n",
    "\n"
   ]
  },
  {
   "cell_type": "code",
   "execution_count": 8,
   "metadata": {},
   "outputs": [],
   "source": [
    "def move_servo(x: int, y: int) -> tuple:\n",
    "    global servo_pinX, servo_pinY\n",
    "\n",
    "    b_x = x - w/2\n",
    "    b_y = y - h/2\n",
    "\n",
    "    beta_x = np.rad2deg(np.arctan(Kx * b_x))\n",
    "    beta_y = np.rad2deg(np.arctan(Ky * b_y))\n",
    "\n",
    "    angle_x = round(180 - (beta_x + 80))\n",
    "    angle_y = round(beta_y + 55)\n",
    "\n",
    "    servo_pinY.write(angle_y)\n",
    "    servo_pinX.write(angle_x)\n",
    "\n",
    "    return angle_x, angle_y"
   ]
  },
  {
   "cell_type": "code",
   "execution_count": 9,
   "metadata": {},
   "outputs": [],
   "source": [
    "def toggle_laser(turn: bool) -> None:\n",
    "    global laser1, laser2\n",
    "    if turn:\n",
    "        laser1.write(1)\n",
    "        laser2.write(0)\n",
    "    else:\n",
    "        laser1.write(0)\n",
    "        laser2.write(1)"
   ]
  },
  {
   "cell_type": "code",
   "execution_count": 10,
   "metadata": {},
   "outputs": [],
   "source": [
    "def shutdown(cap):\n",
    "    ws.PlaySound(None, ws.SND_PURGE)\n",
    "    cv2.destroyAllWindows()\n",
    "    cap.release()\n",
    "    laser1.write(0)\n",
    "    laser2.write(0)\n",
    "    servo_pinX.write(90)\n",
    "    servo_pinY.write(130)"
   ]
  },
  {
   "cell_type": "code",
   "execution_count": 11,
   "metadata": {},
   "outputs": [],
   "source": [
    "def get_shoulders(results, image):\n",
    "        # Find the position of the shoulders\n",
    "    right = (int(results.pose_landmarks.landmark[mp_pose.PoseLandmark.RIGHT_SHOULDER].x * image.shape[1]),\n",
    "                int(results.pose_landmarks.landmark[mp_pose.PoseLandmark.RIGHT_SHOULDER].y * image.shape[0]))\n",
    "    \n",
    "    left = (int(results.pose_landmarks.landmark[mp_pose.PoseLandmark.LEFT_SHOULDER].x * image.shape[1]),\n",
    "                    int(results.pose_landmarks.landmark[mp_pose.PoseLandmark.LEFT_SHOULDER].y * image.shape[0]))\n",
    "    \n",
    "    return right, left"
   ]
  },
  {
   "cell_type": "code",
   "execution_count": 12,
   "metadata": {},
   "outputs": [],
   "source": [
    "def get_distance(right, left):\n",
    "    return round(math.sqrt((right[0] - left[0])**2 + (right[1] - left[1])**2))"
   ]
  },
  {
   "cell_type": "code",
   "execution_count": 13,
   "metadata": {},
   "outputs": [],
   "source": [
    "def get_middle(right, left):\n",
    "    # right, left = get_shoulders(right, left)\n",
    "    return (round((right[0] + left[0])/2), round((right[1] + left[1])/2))"
   ]
  },
  {
   "cell_type": "code",
   "execution_count": 23,
   "metadata": {},
   "outputs": [],
   "source": [
    "def get_sounds():\n",
    "    gun_sound = './sounds/gun2.wav'\n",
    "    hostile_detected_sound = './sounds/hostile.wav'\n",
    "    jb_sound = './sounds/joy_b.wav'\n",
    "    tp_warn_sound = './sounds/warn.wav'\n",
    "    last_warn = './sounds/warn2.wav'\n",
    "\n",
    "    gun = snd(gun_sound)\n",
    "    hostile_detected = snd(hostile_detected_sound)\n",
    "    jb = snd(jb_sound)\n",
    "    tp = snd(tp_warn_sound)\n",
    "    warn = snd(last_warn)\n",
    "\n",
    "    return gun, hostile_detected, jb, tp, warn"
   ]
  },
  {
   "cell_type": "code",
   "execution_count": 15,
   "metadata": {},
   "outputs": [],
   "source": [
    "def check_surrender_pose(results):\n",
    "    left_wrist_y = results.pose_landmarks.landmark[mp_pose.PoseLandmark.LEFT_WRIST].y\n",
    "    right_wrist_y = results.pose_landmarks.landmark[mp_pose.PoseLandmark.RIGHT_WRIST].y\n",
    "\n",
    "    right_shoulder_y = results.pose_landmarks.landmark[mp_pose.PoseLandmark.RIGHT_SHOULDER].y\n",
    "    left_shoulder_y = results.pose_landmarks.landmark[mp_pose.PoseLandmark.LEFT_SHOULDER].y\n",
    "\n",
    "    if left_wrist_y < left_shoulder_y and right_wrist_y < right_shoulder_y:\n",
    "        return True\n",
    "    return False"
   ]
  },
  {
   "cell_type": "code",
   "execution_count": 16,
   "metadata": {},
   "outputs": [],
   "source": [
    "def shoot_gun(gun, laserTurn, shooting_timer, image):\n",
    "    cv2.putText(image, f'Shooting: {round(shooting_timer.get_time_left())}', (50, 100),\n",
    "                        cv2.FONT_HERSHEY_PLAIN, 2, (255, 255, 0), 2)\n",
    "            \n",
    "    gun.play()\n",
    "\n",
    "    laserTurn = not laserTurn\n",
    "    toggle_laser(laserTurn)\n",
    "\n",
    "    return laserTurn"
   ]
  },
  {
   "attachments": {},
   "cell_type": "markdown",
   "metadata": {},
   "source": [
    "# Main Function"
   ]
  },
  {
   "cell_type": "code",
   "execution_count": 27,
   "metadata": {},
   "outputs": [],
   "source": [
    "cap = cv2.VideoCapture(2)\n",
    "\n",
    "# ws, hs = 1920, 1080\n",
    "# cap.set(3, ws)\n",
    "# cap.set(4, hs)\n",
    "\n",
    "servo_pinX.write(MIDDLE_X)\n",
    "servo_pinY.write(MIDDLE_Y)\n",
    "offsetY = 0\n",
    "start_time = None\n",
    "status = ''\n",
    "\n",
    "\n",
    "# distances\n",
    "tresspass_dist = 80\n",
    "hostile_dist = 130\n",
    "kill_dist = 200\n",
    "\n",
    "gun, hostile_detected, jb, tp, warn = get_sounds()\n",
    "\n",
    "\n",
    "\n",
    "with mp_pose.Pose(\n",
    "        min_detection_confidence=0.5,\n",
    "        min_tracking_confidence=0.5) as pose:\n",
    "    \n",
    "\n",
    "    # To alternate lasers when shooting\n",
    "    laserTurn = True\n",
    "\n",
    "    # Is the target surrendering\n",
    "    isSurrendering = True\n",
    "\n",
    "    # Is the gun shooting\n",
    "    isShooting = False\n",
    "\n",
    "    # Is the target tresspassing (prompted to surrender)\n",
    "    isTrespassing = False\n",
    "\n",
    "    # Is the target in the safe zone\n",
    "    isInsidePerimeter = False\n",
    "\n",
    "\n",
    "    yield_timer = Timer(5)\n",
    "    shooting_timer = Timer(3)\n",
    "\n",
    "    while cap.isOpened():\n",
    "        success, image = cap.read()\n",
    "\n",
    "        if not success:\n",
    "            print(\"Camera not found.\")\n",
    "            print(\"Please check whether the camera is connected properly.\")\n",
    "            break\n",
    "        \n",
    "        isIdle = False\n",
    "        \n",
    "\n",
    "        image.flags.writeable = False\n",
    "        image = cv2.cvtColor(image, cv2.COLOR_BGR2RGB)\n",
    "        results = pose.process(image)\n",
    "\n",
    "        # Draw the pose annotation on the image.\n",
    "        # image.flags.writeable = True\n",
    "        image = cv2.cvtColor(image, cv2.COLOR_RGB2BGR)\n",
    "        # mp_drawing.draw_landmarks(\n",
    "        #     image,\n",
    "        #     results.pose_landmarks,\n",
    "        #     mp_pose.POSE_CONNECTIONS,\n",
    "        #     landmark_drawing_spec=mp_drawing_styles.get_default_pose_landmarks_style())\n",
    "\n",
    "        if results.pose_landmarks:\n",
    "\n",
    "            # Pose detection\n",
    "            isSurrendering = check_surrender_pose(results)\n",
    "\n",
    "            # Measuring distance by shoulder width\n",
    "            right, left = get_shoulders(results, image)\n",
    "            distance = get_distance(right, left)\n",
    "\n",
    "            cv2.putText(image, f'Distance: {distance}', (50, 150),\n",
    "                        cv2.FONT_HERSHEY_PLAIN, 2, (255, 255, 0), 2)\n",
    "\n",
    "\n",
    "            # Target is outside of the perimeter\n",
    "            if distance < tresspass_dist:\n",
    "                isIdle = True\n",
    "                status = 'Idle'\n",
    "            \n",
    "            else:\n",
    "                # Target is inside the perimeter - action required\n",
    "                isIdle = False\n",
    "\n",
    "                # Getting middle point\n",
    "                mid_x, mid_y = get_middle(right, left)\n",
    "\n",
    "                # Aiming at the target\n",
    "                trans_x, trans_y = move_servo(mid_x, mid_y)\n",
    "\n",
    "                # Drawing Crosshair\n",
    "                cv2.circle(image, (mid_x, mid_y), 50, (0, 0, 255), 2)\n",
    "                cv2.circle(image, (mid_x, mid_y),\n",
    "                           15, (0, 0, 255), cv2.FILLED)\n",
    "\n",
    "                # Immediate kill - surrendering will not be accepted\n",
    "                if distance > kill_dist:\n",
    "                    isShooting = True\n",
    "\n",
    "                    if not shooting_timer.is_timer_running():\n",
    "                        shooting_timer.start()\n",
    "\n",
    "                # Command suspect to surrender\n",
    "                elif distance > hostile_dist:\n",
    "                    warn.play()\n",
    "                    isTrespassing = True\n",
    "                    status = 'Prompted to surrender'\n",
    "\n",
    "                    if not any([isShooting, isSurrendering]):\n",
    "                        if yield_timer.is_time_up():\n",
    "                            isShooting = True\n",
    "                            isTrespassing = False\n",
    "                            shooting_timer.start()\n",
    "\n",
    "                        if not yield_timer.is_timer_running():\n",
    "                            yield_timer.start()\n",
    "\n",
    "                        cv2.putText(image, f'Shooting in: {round(yield_timer.get_time_left())}', (50, 100),\n",
    "                                    cv2.FONT_HERSHEY_PLAIN, 2, (255, 255, 0), 2)\n",
    "                    \n",
    "                    if isSurrendering:\n",
    "                        yield_timer.clear()\n",
    "\n",
    "                # Command suspect to stop trespassing\n",
    "                elif distance > tresspass_dist:\n",
    "                    status = 'Trespassing'\n",
    "                    isInsidePerimeter = True\n",
    "                    tp.play()\n",
    "                \n",
    "            \n",
    "\n",
    "        else:\n",
    "            # No target detected\n",
    "            yield_timer.clear()\n",
    "            shooting_timer.clear()\n",
    "            isIdle = True\n",
    "\n",
    "\n",
    "        if shooting_timer.is_time_up():\n",
    "            isShooting = False\n",
    "            gun.stop()\n",
    "            shooting_timer.clear()\n",
    "            yield_timer.clear()\n",
    "\n",
    "        elif isShooting:\n",
    "            status = 'Shooting'\n",
    "            laserTurn = shoot_gun(gun, laserTurn, shooting_timer, image)\n",
    "        else:\n",
    "            laser1.write(1)\n",
    "            laser2.write(1)\n",
    "\n",
    "        cv2.putText(image, f'Surrender: {isSurrendering}', (50, 50),\n",
    "                    cv2.FONT_HERSHEY_PLAIN, 2, (0, 255, 0), 2)\n",
    "        \n",
    "\n",
    "        cv2.putText(image, f'Status: {status.upper()}', (50, 470),\n",
    "                    cv2.FONT_HERSHEY_PLAIN, 2, (0, 255, 0), 2)\n",
    "\n",
    "        # Showing image\n",
    "        # cv2.imshow('MediaPipe Pose', cv2.flip(image, 1)) # Flip image\n",
    "        cv2.imshow('Camera Feed', image)\n",
    "        if cv2.waitKey(1) & 0xFF == 27: # ESC\n",
    "            break\n",
    "\n",
    "        idle_sweep() if isIdle else None\n",
    "\n",
    "shutdown(cap)\n",
    "jb.play()"
   ]
  },
  {
   "attachments": {},
   "cell_type": "markdown",
   "metadata": {},
   "source": [
    "# Misc"
   ]
  },
  {
   "cell_type": "code",
   "execution_count": 16,
   "metadata": {},
   "outputs": [],
   "source": [
    "servo_pinX.write(90)\n",
    "servo_pinY.write(70)"
   ]
  },
  {
   "cell_type": "code",
   "execution_count": null,
   "metadata": {},
   "outputs": [],
   "source": [
    "laser1.write(1)\n",
    "laser2.write(1)\n",
    "servo_pinY.write(50)"
   ]
  },
  {
   "cell_type": "code",
   "execution_count": null,
   "metadata": {},
   "outputs": [],
   "source": [
    "cv2.destroyAllWindows()\n",
    "cap.release()"
   ]
  },
  {
   "cell_type": "code",
   "execution_count": null,
   "metadata": {},
   "outputs": [],
   "source": [
    "servo_pinX.write(70)"
   ]
  },
  {
   "cell_type": "code",
   "execution_count": null,
   "metadata": {},
   "outputs": [],
   "source": [
    "testx = 180\n",
    "\n",
    "while True:\n",
    "    servo_pinX.write(testx)\n",
    "    testx -= 1\n",
    "    time.sleep(0.01)\n",
    "\n",
    "    if testx == 0:\n",
    "        testx = 180\n",
    "\n"
   ]
  },
  {
   "cell_type": "code",
   "execution_count": null,
   "metadata": {},
   "outputs": [],
   "source": [
    "while True:\n",
    "    servo_pinY.write(15)\n",
    "    time.sleep(1)\n",
    "    servo_pinY.write(80)\n",
    "    time.sleep(1)"
   ]
  },
  {
   "attachments": {},
   "cell_type": "markdown",
   "metadata": {},
   "source": [
    "## Lists all the available serial ports"
   ]
  },
  {
   "cell_type": "code",
   "execution_count": null,
   "metadata": {},
   "outputs": [
    {
     "name": "stdout",
     "output_type": "stream",
     "text": [
      "Port 0 is working and reads images (480.0 x 640.0)\n",
      "Port 1 is working and reads images (480.0 x 640.0)\n",
      "Port 2 is working and reads images (480.0 x 640.0)\n",
      "Port 3 is working and reads images (480.0 x 640.0)\n",
      "Port 4 is not working.\n",
      "Port 5 is not working.\n",
      "Port 6 is not working.\n",
      "Port 7 is not working.\n",
      "Port 8 is not working.\n",
      "Port 9 is not working.\n"
     ]
    },
    {
     "data": {
      "text/plain": [
       "([], [0, 1, 2, 3], [4, 5, 6, 7, 8, 9])"
      ]
     },
     "execution_count": 10,
     "metadata": {},
     "output_type": "execute_result"
    }
   ],
   "source": [
    "def list_ports():\n",
    "    \"\"\"\n",
    "    Test the ports and returns a tuple with the available ports and the ones that are working.\n",
    "    \"\"\"\n",
    "    non_working_ports = []\n",
    "    dev_port = 0\n",
    "    working_ports = []\n",
    "    available_ports = []\n",
    "    while len(non_working_ports) < 6: # if there are more than 5 non working ports stop the testing. \n",
    "        camera = cv2.VideoCapture(dev_port)\n",
    "        if not camera.isOpened():\n",
    "            non_working_ports.append(dev_port)\n",
    "            print(\"Port %s is not working.\" %dev_port)\n",
    "        else:\n",
    "            is_reading, img = camera.read()\n",
    "            w = camera.get(3)\n",
    "            h = camera.get(4)\n",
    "            if is_reading:\n",
    "                print(\"Port %s is working and reads images (%s x %s)\" %(dev_port,h,w))\n",
    "                working_ports.append(dev_port)\n",
    "            else:\n",
    "                print(\"Port %s for camera ( %s x %s) is present but does not reads.\" %(dev_port,h,w))\n",
    "                available_ports.append(dev_port)\n",
    "        dev_port +=1\n",
    "    return available_ports,working_ports,non_working_ports\n",
    "\n",
    "list_ports()"
   ]
  }
 ],
 "metadata": {
  "kernelspec": {
   "display_name": "Python 3",
   "language": "python",
   "name": "python3"
  },
  "language_info": {
   "codemirror_mode": {
    "name": "ipython",
    "version": 3
   },
   "file_extension": ".py",
   "mimetype": "text/x-python",
   "name": "python",
   "nbconvert_exporter": "python",
   "pygments_lexer": "ipython3",
   "version": "3.10.6"
  },
  "orig_nbformat": 4,
  "vscode": {
   "interpreter": {
    "hash": "d160966f923a3a33b7e4678143d4ddbf9984fa94549c4439610f55de51f406fe"
   }
  }
 },
 "nbformat": 4,
 "nbformat_minor": 2
}
