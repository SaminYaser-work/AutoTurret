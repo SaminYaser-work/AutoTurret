{
 "cells": [
  {
   "cell_type": "code",
   "execution_count": 1,
   "metadata": {},
   "outputs": [
    {
     "name": "stderr",
     "output_type": "stream",
     "text": [
      "2023-02-10 15:56:54.900737: I tensorflow/core/platform/cpu_feature_guard.cc:193] This TensorFlow binary is optimized with oneAPI Deep Neural Network Library (oneDNN) to use the following CPU instructions in performance-critical operations:  AVX2 FMA\n",
      "To enable them in other operations, rebuild TensorFlow with the appropriate compiler flags.\n",
      "2023-02-10 15:56:55.072977: W tensorflow/stream_executor/platform/default/dso_loader.cc:64] Could not load dynamic library 'libcudart.so.11.0'; dlerror: libcudart.so.11.0: cannot open shared object file: No such file or directory; LD_LIBRARY_PATH: /home/sam/.local/lib/python3.10/site-packages/cv2/../../lib64:\n",
      "2023-02-10 15:56:55.073013: I tensorflow/stream_executor/cuda/cudart_stub.cc:29] Ignore above cudart dlerror if you do not have a GPU set up on your machine.\n",
      "2023-02-10 15:56:55.115813: E tensorflow/stream_executor/cuda/cuda_blas.cc:2981] Unable to register cuBLAS factory: Attempting to register factory for plugin cuBLAS when one has already been registered\n",
      "2023-02-10 15:56:55.985284: W tensorflow/stream_executor/platform/default/dso_loader.cc:64] Could not load dynamic library 'libnvinfer.so.7'; dlerror: libnvinfer.so.7: cannot open shared object file: No such file or directory; LD_LIBRARY_PATH: /home/sam/.local/lib/python3.10/site-packages/cv2/../../lib64:\n",
      "2023-02-10 15:56:55.985367: W tensorflow/stream_executor/platform/default/dso_loader.cc:64] Could not load dynamic library 'libnvinfer_plugin.so.7'; dlerror: libnvinfer_plugin.so.7: cannot open shared object file: No such file or directory; LD_LIBRARY_PATH: /home/sam/.local/lib/python3.10/site-packages/cv2/../../lib64:\n",
      "2023-02-10 15:56:55.985375: W tensorflow/compiler/tf2tensorrt/utils/py_utils.cc:38] TF-TRT Warning: Cannot dlopen some TensorRT libraries. If you would like to use Nvidia GPU with TensorRT, please make sure the missing libraries mentioned above are installed properly.\n"
     ]
    }
   ],
   "source": [
    "import cv2\n",
    "from cvzone.FaceDetectionModule import FaceDetector\n",
    "import pyfirmata\n",
    "import numpy as np"
   ]
  },
  {
   "cell_type": "code",
   "execution_count": null,
   "metadata": {},
   "outputs": [],
   "source": [
    "# port = \"COM7\"\n",
    "# board = pyfirmata.Arduino(port)\n",
    "# servo_pinX = board.get_pin('d:9:s') #pin 9 Arduino\n",
    "# servo_pinY = board.get_pin('d:10:s') #pin 10 Arduino\n",
    "\n",
    "cap = cv2.VideoCapture(0)\n",
    "ws, hs = 1280, 720\n",
    "cap.set(3, ws)\n",
    "cap.set(4, hs)\n",
    "\n",
    "if not cap.isOpened():\n",
    "    print(\"Couldn't Access Camera!!!\")\n",
    "    exit()\n",
    "else:\n",
    "    print(\"Camera Accessed!!!\")\n",
    "\n",
    "detector = FaceDetector()\n",
    "servoPos = [90, 90] # initial servo position\n",
    "offsetY = 150\n",
    "\n",
    "while True:\n",
    "    success, img = cap.read()\n",
    "\n",
    "    if not success: break\n",
    "\n",
    "    img, bboxs = detector.findFaces(img, draw=False)\n",
    "\n",
    "    if bboxs:\n",
    "        #get the coordinate\n",
    "        fx, fy = bboxs[0][\"center\"][0], bboxs[0][\"center\"][1] + offsetY\n",
    "        pos = [fx, fy]\n",
    "\n",
    "        # #convert coordinat to servo degree\n",
    "        servoX = np.interp(fx, [0, ws], [0, 180])\n",
    "        servoY = np.interp(fy, [0, hs], [0, 180])\n",
    "\n",
    "        if servoX < 0:\n",
    "            servoX = 0\n",
    "        elif servoX > 180:\n",
    "            servoX = 180\n",
    "        if servoY < 0:\n",
    "            servoY = 0\n",
    "        elif servoY > 180:\n",
    "            servoY = 180\n",
    "\n",
    "        servoPos[0] = servoX\n",
    "        servoPos[1] = servoY\n",
    "\n",
    "\n",
    "        cv2.circle(img, (fx, fy), 80, (0, 0, 255), 2)\n",
    "        cv2.putText(img, str(pos), (fx+15, fy-15), cv2.FONT_HERSHEY_PLAIN, 2, (255, 0, 0), 2 )\n",
    "        cv2.line(img, (0, fy), (ws, fy), (0, 0, 0), 2)  # x line\n",
    "        cv2.line(img, (fx, hs), (fx, 0), (0, 0, 0), 2)  # y line\n",
    "        cv2.circle(img, (fx, fy), 15, (0, 0, 255), cv2.FILLED)\n",
    "        cv2.putText(img, \"TARGET LOCKED\", (850, 50), cv2.FONT_HERSHEY_PLAIN, 3, (255, 0, 255), 3 )\n",
    "\n",
    "    else:\n",
    "        cv2.putText(img, \"NO TARGET\", (880, 50), cv2.FONT_HERSHEY_PLAIN, 3, (0, 0, 255), 3)\n",
    "        cv2.circle(img, (640, 360), 80, (0, 0, 255), 2)\n",
    "        cv2.circle(img, (640, 360), 15, (0, 0, 255), cv2.FILLED)\n",
    "        cv2.line(img, (0, 360), (ws, 360), (0, 0, 0), 2)  # x line\n",
    "        cv2.line(img, (640, hs), (640, 0), (0, 0, 0), 2)  # y line\n",
    "\n",
    "\n",
    "    cv2.putText(img, f'Servo X: {int(servoPos[0])} deg', (50, 50), cv2.FONT_HERSHEY_PLAIN, 2, (255, 0, 0), 2)\n",
    "    cv2.putText(img, f'Servo Y: {int(servoPos[1])} deg', (50, 100), cv2.FONT_HERSHEY_PLAIN, 2, (255, 0, 0), 2)\n",
    "\n",
    "    # servo_pinX.write(servoPos[0])\n",
    "    # servo_pinY.write(servoPos[1])\n",
    "\n",
    "    cv2.imshow(\"Image\", img)\n",
    "\n",
    "    # Exit if ESC pressed\n",
    "    k = cv2.waitKey(1) & 0xFF\n",
    "    if k == 27:\n",
    "        break\n",
    "\n",
    "\n",
    "cv2.destroyAllWindows()\n",
    "cap.release()\n"
   ]
  }
 ],
 "metadata": {
  "kernelspec": {
   "display_name": "Python 3",
   "language": "python",
   "name": "python3"
  },
  "language_info": {
   "codemirror_mode": {
    "name": "ipython",
    "version": 3
   },
   "file_extension": ".py",
   "mimetype": "text/x-python",
   "name": "python",
   "nbconvert_exporter": "python",
   "pygments_lexer": "ipython3",
   "version": "3.10.9"
  },
  "orig_nbformat": 4,
  "vscode": {
   "interpreter": {
    "hash": "e7370f93d1d0cde622a1f8e1c04877d8463912d04d973331ad4851f04de6915a"
   }
  }
 },
 "nbformat": 4,
 "nbformat_minor": 2
}
