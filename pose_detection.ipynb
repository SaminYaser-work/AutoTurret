{
 "cells": [
  {
   "attachments": {},
   "cell_type": "markdown",
   "metadata": {},
   "source": [
    "# Importing the libraries"
   ]
  },
  {
   "cell_type": "code",
   "execution_count": 2,
   "metadata": {},
   "outputs": [],
   "source": [
    "import cv2\n",
    "import mediapipe as mp\n",
    "import pyfirmata\n",
    "import numpy as np\n",
    "import time\n",
    "from timer import Timer\n",
    "import threading\n",
    "import winsound"
   ]
  },
  {
   "cell_type": "code",
   "execution_count": 3,
   "metadata": {},
   "outputs": [],
   "source": [
    "mp_drawing = mp.solutions.drawing_utils\n",
    "mp_drawing_styles = mp.solutions.drawing_styles\n",
    "mp_pose = mp.solutions.pose\n",
    "mp_face_detection = mp.solutions.face_detection"
   ]
  },
  {
   "attachments": {},
   "cell_type": "markdown",
   "metadata": {},
   "source": [
    "# Connecting to the Arduino Uno"
   ]
  },
  {
   "cell_type": "code",
   "execution_count": 4,
   "metadata": {},
   "outputs": [],
   "source": [
    "port = \"COM3\"\n",
    "board = pyfirmata.Arduino(port)"
   ]
  },
  {
   "cell_type": "code",
   "execution_count": 5,
   "metadata": {},
   "outputs": [],
   "source": [
    "servo_pinX = board.get_pin('d:3:s') \n",
    "servo_pinY = board.get_pin('d:2:s')\n",
    "servo_pinX.write(90)\n",
    "servo_pinY.write(90)\n",
    "laser_pin = board.digital[13]"
   ]
  },
  {
   "attachments": {},
   "cell_type": "markdown",
   "metadata": {},
   "source": [
    "# Helper Fucntions"
   ]
  },
  {
   "cell_type": "code",
   "execution_count": 6,
   "metadata": {},
   "outputs": [],
   "source": [
    "def put_text(image, text: str, font = cv2.FONT_HERSHEY_PLAIN, color = (255, 255, 255), thickness = 2):\n",
    "    cv2.putText(image, text, (50, 100), font, 2, color = color, thickness=thickness)"
   ]
  },
  {
   "cell_type": "code",
   "execution_count": 8,
   "metadata": {},
   "outputs": [],
   "source": [
    "def play(file: str):\n",
    "    threading.Thread(target=winsound.PlaySound, args=(file, winsound.SND_FILENAME), daemon=True).start()\n",
    "\n",
    "play('./sounds/hostile.wav')"
   ]
  },
  {
   "cell_type": "code",
   "execution_count": 9,
   "metadata": {},
   "outputs": [
    {
     "data": {
      "text/plain": [
       "78"
      ]
     },
     "execution_count": 9,
     "metadata": {},
     "output_type": "execute_result"
    }
   ],
   "source": [
    "# https://stackoverflow.com/questions/37642834/opencv-how-to-calculate-the-degreesangles-of-an-object-with-its-coordinates\n",
    "\n",
    "w = 640 # Width of the image\n",
    "h = 480 # Height of the image\n",
    "fov_x = 70 # Horizontal field of view of the camera\n",
    "fov_y = 50 # Vertical field of view of the camera\n",
    "\n",
    "a_x = w/2\n",
    "a_y = h/2\n",
    "\n",
    "alpha_x = fov_x/2\n",
    "alpha_y = fov_y/2\n",
    "\n",
    "Kx = np.tan(np.deg2rad(alpha_x)) / a_x\n",
    "Ky = np.tan(np.deg2rad(alpha_y)) / a_y\n",
    "\n",
    "# Testing\n",
    "p = 134\n",
    "b = p - h/2\n",
    "beta = np.rad2deg(np.arctan(Ky * b))\n",
    "round(beta + 90)"
   ]
  },
  {
   "cell_type": "code",
   "execution_count": 10,
   "metadata": {},
   "outputs": [],
   "source": [
    "def move_servo(x: int, y: int) -> tuple:\n",
    "    global servo_pinX, servo_pinY\n",
    "\n",
    "    b_x = x - w/2\n",
    "    b_y = y - h/2\n",
    "\n",
    "    beta_x = np.rad2deg(np.arctan(Kx * b_x))\n",
    "    beta_y = np.rad2deg(np.arctan(Ky * b_y))\n",
    "\n",
    "    angle_x = round(180 - (beta_x + 90))\n",
    "    angle_y = round(beta_y + 45)\n",
    "\n",
    "    servo_pinY.write(angle_y)\n",
    "    servo_pinX.write(angle_x)\n",
    "\n",
    "    return angle_x, angle_y"
   ]
  },
  {
   "attachments": {},
   "cell_type": "markdown",
   "metadata": {},
   "source": [
    "# Main Function"
   ]
  },
  {
   "cell_type": "code",
   "execution_count": 13,
   "metadata": {},
   "outputs": [],
   "source": [
    "cap = cv2.VideoCapture(2)\n",
    "\n",
    "# ws, hs = 1920, 1080\n",
    "# cap.set(3, ws)\n",
    "# cap.set(4, hs)\n",
    "\n",
    "servoPos = [90, 90]  # initial servo position\n",
    "servo_pinX.write(90)\n",
    "servo_pinY.write(70)\n",
    "offsetY = 0\n",
    "start_time = None\n",
    "\n",
    "with mp_pose.Pose(\n",
    "        min_detection_confidence=0.5,\n",
    "        min_tracking_confidence=0.5) as pose:\n",
    "    \n",
    "\n",
    "    isLaserOn = True\n",
    "    isCooldown = False\n",
    "    isSurrendering = True\n",
    "    isShooting = False\n",
    "\n",
    "    detectedSound = False\n",
    "\n",
    "\n",
    "    warn_timer = Timer(6)\n",
    "    cooldown_timer = Timer(3)\n",
    "    shooting_timer = Timer(3)\n",
    "\n",
    "    while cap.isOpened():\n",
    "        success, image = cap.read()\n",
    "\n",
    "        if not success:\n",
    "            print(\"Camera not found.\")\n",
    "            print(\"Please check whether the camera is connected properly.\")\n",
    "            break\n",
    "        \n",
    "        surrenderTextColor = (0, 0, 255)\n",
    "\n",
    "        if isShooting and shooting_timer.is_time_up():\n",
    "            isShooting = False\n",
    "            shooting_timer.clear()\n",
    "            warn_timer.clear()\n",
    "\n",
    "\n",
    "        image.flags.writeable = False\n",
    "        image = cv2.cvtColor(image, cv2.COLOR_BGR2RGB)\n",
    "        results = pose.process(image)\n",
    "\n",
    "        # Draw the pose annotation on the image.\n",
    "        image.flags.writeable = True\n",
    "        image = cv2.cvtColor(image, cv2.COLOR_RGB2BGR)\n",
    "        mp_drawing.draw_landmarks(\n",
    "            image,\n",
    "            results.pose_landmarks,\n",
    "            mp_pose.POSE_CONNECTIONS,\n",
    "            landmark_drawing_spec=mp_drawing_styles.get_default_pose_landmarks_style())\n",
    "\n",
    "        if results.pose_landmarks:\n",
    "\n",
    "\n",
    "            # To detect surrendering pose\n",
    "            left_wrist_y = results.pose_landmarks.landmark[mp_pose.PoseLandmark.LEFT_WRIST].y\n",
    "            right_wrist_y = results.pose_landmarks.landmark[mp_pose.PoseLandmark.RIGHT_WRIST].y\n",
    "\n",
    "            right_shoulder_y = results.pose_landmarks.landmark[mp_pose.PoseLandmark.RIGHT_SHOULDER].y\n",
    "            left_shoulder_y = results.pose_landmarks.landmark[mp_pose.PoseLandmark.LEFT_SHOULDER].y\n",
    "\n",
    "            # Find the position to aim\n",
    "            nose_y = int(\n",
    "                results.pose_landmarks.landmark[mp_pose.PoseLandmark.NOSE].y * image.shape[0] + offsetY)\n",
    "\n",
    "            nose_x = int(\n",
    "                results.pose_landmarks.landmark[mp_pose.PoseLandmark.NOSE].x * image.shape[1])\n",
    "\n",
    "            # nose_z = np.abs(\n",
    "            #     results.pose_landmarks.landmark[mp_pose.PoseLandmark.NOSE].z * image.shape[0])\n",
    "\n",
    "\n",
    "            if left_wrist_y < left_shoulder_y and right_wrist_y < right_shoulder_y:\n",
    "                isSurrendering = True\n",
    "                surrenderTextColor = (0, 255, 0)\n",
    "            else:\n",
    "                isSurrendering = False\n",
    "\n",
    "            if nose_x and nose_y:\n",
    "\n",
    "                # if not detectedSound:\n",
    "                #     play('./sounds/hostile.wav')\n",
    "                #     detectedSound = True\n",
    "\n",
    "\n",
    "                cv2.putText(image, f'nose_x: {nose_x}', (50, 250),\n",
    "                            cv2.FONT_HERSHEY_PLAIN, 2, (255, 255, 0), 2)\n",
    "\n",
    "                cv2.putText(image, f'nose_y: {nose_y}', (50, 300),\n",
    "                            cv2.FONT_HERSHEY_PLAIN, 2, (255, 255, 0), 2)\n",
    "                # cv2.putText(image, f'nose_z: {nose_z}', (50, 350),\n",
    "                #             cv2.FONT_HERSHEY_PLAIN, 2, (255, 255, 0), 2)\n",
    "\n",
    "\n",
    "                # Translating pixel to servo angle\n",
    "                trans_x, trans_y = move_servo(nose_x, nose_y)\n",
    "\n",
    "                cv2.putText(image, f'trans_x: {trans_x}', (50, 350),\n",
    "                            cv2.FONT_HERSHEY_PLAIN, 2, (255, 255, 0), 2)\n",
    "\n",
    "                cv2.putText(image, f'trans_y: {trans_y}', (50, 400),\n",
    "                            cv2.FONT_HERSHEY_PLAIN, 2, (255, 255, 0), 2)\n",
    "\n",
    "                # Crosshair\n",
    "                # cv2.circle(image, (nose_x, nose_y), 50, (0, 0, 255), 2)\n",
    "                # cv2.circle(image, (nose_x, nose_y),\n",
    "                #            15, (0, 0, 255), cv2.FILLED)\n",
    "                \n",
    "                if not isSurrendering and not isShooting:\n",
    "\n",
    "                    if not warn_timer.is_timer_running():\n",
    "                        warn_timer.start()\n",
    "                    else:\n",
    "                        if warn_timer.is_time_up():\n",
    "                            isShooting = True\n",
    "                            shooting_timer.start()\n",
    "                        else:\n",
    "                            cv2.putText(image, f'Shooting in: {round(warn_timer.get_time_left())}', (50, 100),\n",
    "                                        cv2.FONT_HERSHEY_PLAIN, 2, (255, 255, 0), 2)\n",
    "                elif isSurrendering:\n",
    "                    isShooting = False\n",
    "                    isLaserOn = True\n",
    "                    detectedSound = False\n",
    "                    warn_timer.clear()\n",
    "                    shooting_timer.clear()\n",
    "\n",
    "\n",
    "        if isShooting:\n",
    "            # put_text(\n",
    "            #     image,\n",
    "            #     'Shooting: ' + str(round(shooting_timer.get_time_left())),\n",
    "            #     color = (255, 255, 0)\n",
    "            # )\n",
    "            cv2.putText(image, f'Shooting: {round(shooting_timer.get_time_left())}', (50, 100),\n",
    "                        cv2.FONT_HERSHEY_PLAIN, 2, (255, 255, 0), 2)\n",
    "            # play('./sounds/gun.wav')\n",
    "            isLaserOn = not isLaserOn\n",
    "        else:\n",
    "            isLaserOn = True\n",
    "        \n",
    "        laser_pin.write(isLaserOn)\n",
    "\n",
    "        cv2.putText(image, f'Surrender: {isSurrendering}', (50, 50),\n",
    "                    cv2.FONT_HERSHEY_PLAIN, 2, surrenderTextColor, 2)\n",
    "\n",
    "        # Showing image\n",
    "        # cv2.imshow('MediaPipe Pose', cv2.flip(image, 1))\n",
    "        cv2.imshow('Camera Feed', image)\n",
    "        if cv2.waitKey(5) & 0xFF == 27:\n",
    "            break\n",
    "\n",
    "cv2.destroyAllWindows()\n",
    "cap.release()\n",
    "servo_pinX.write(90)\n",
    "servo_pinY.write(130)"
   ]
  },
  {
   "attachments": {},
   "cell_type": "markdown",
   "metadata": {},
   "source": [
    "# Misc"
   ]
  },
  {
   "cell_type": "code",
   "execution_count": 8,
   "metadata": {},
   "outputs": [],
   "source": [
    "cv2.destroyAllWindows()\n",
    "cap.release()"
   ]
  },
  {
   "cell_type": "code",
   "execution_count": null,
   "metadata": {},
   "outputs": [],
   "source": [
    "while True:\n",
    "    servo_pinY.write(15)\n",
    "    time.sleep(1)\n",
    "    servo_pinY.write(80)\n",
    "    time.sleep(1)"
   ]
  },
  {
   "attachments": {},
   "cell_type": "markdown",
   "metadata": {},
   "source": [
    "## Lists all the available serial ports"
   ]
  },
  {
   "cell_type": "code",
   "execution_count": 10,
   "metadata": {},
   "outputs": [
    {
     "name": "stdout",
     "output_type": "stream",
     "text": [
      "Port 0 is working and reads images (480.0 x 640.0)\n",
      "Port 1 is working and reads images (480.0 x 640.0)\n",
      "Port 2 is working and reads images (480.0 x 640.0)\n",
      "Port 3 is working and reads images (480.0 x 640.0)\n",
      "Port 4 is not working.\n",
      "Port 5 is not working.\n",
      "Port 6 is not working.\n",
      "Port 7 is not working.\n",
      "Port 8 is not working.\n",
      "Port 9 is not working.\n"
     ]
    },
    {
     "data": {
      "text/plain": [
       "([], [0, 1, 2, 3], [4, 5, 6, 7, 8, 9])"
      ]
     },
     "execution_count": 10,
     "metadata": {},
     "output_type": "execute_result"
    }
   ],
   "source": [
    "def list_ports():\n",
    "    \"\"\"\n",
    "    Test the ports and returns a tuple with the available ports and the ones that are working.\n",
    "    \"\"\"\n",
    "    non_working_ports = []\n",
    "    dev_port = 0\n",
    "    working_ports = []\n",
    "    available_ports = []\n",
    "    while len(non_working_ports) < 6: # if there are more than 5 non working ports stop the testing. \n",
    "        camera = cv2.VideoCapture(dev_port)\n",
    "        if not camera.isOpened():\n",
    "            non_working_ports.append(dev_port)\n",
    "            print(\"Port %s is not working.\" %dev_port)\n",
    "        else:\n",
    "            is_reading, img = camera.read()\n",
    "            w = camera.get(3)\n",
    "            h = camera.get(4)\n",
    "            if is_reading:\n",
    "                print(\"Port %s is working and reads images (%s x %s)\" %(dev_port,h,w))\n",
    "                working_ports.append(dev_port)\n",
    "            else:\n",
    "                print(\"Port %s for camera ( %s x %s) is present but does not reads.\" %(dev_port,h,w))\n",
    "                available_ports.append(dev_port)\n",
    "        dev_port +=1\n",
    "    return available_ports,working_ports,non_working_ports\n",
    "\n",
    "list_ports()"
   ]
  }
 ],
 "metadata": {
  "kernelspec": {
   "display_name": "Python 3",
   "language": "python",
   "name": "python3"
  },
  "language_info": {
   "codemirror_mode": {
    "name": "ipython",
    "version": 3
   },
   "file_extension": ".py",
   "mimetype": "text/x-python",
   "name": "python",
   "nbconvert_exporter": "python",
   "pygments_lexer": "ipython3",
   "version": "3.10.6"
  },
  "orig_nbformat": 4,
  "vscode": {
   "interpreter": {
    "hash": "e7370f93d1d0cde622a1f8e1c04877d8463912d04d973331ad4851f04de6915a"
   }
  }
 },
 "nbformat": 4,
 "nbformat_minor": 2
}
